{
  "cells": [
    {
      "cell_type": "code",
      "execution_count": 1,
      "metadata": {
        "id": "Z8j3L_Jvk0zs"
      },
      "outputs": [],
      "source": [
        "import numpy as np"
      ]
    },
    {
      "cell_type": "markdown",
      "metadata": {
        "id": "Ult-6dygG4nK"
      },
      "source": [
        "# Numpy intro"
      ]
    },
    {
      "cell_type": "markdown",
      "metadata": {
        "id": "n9_GwbgNG69A"
      },
      "source": [
        "why is it efficient? It has C implementation."
      ]
    },
    {
      "cell_type": "markdown",
      "metadata": {
        "id": "3QVb8EeXHGDx"
      },
      "source": [
        "# Creating arrays"
      ]
    },
    {
      "cell_type": "markdown",
      "metadata": {
        "id": "dPftg6jsHYI6"
      },
      "source": [
        "what is a tensor? $(T_{i_1,\\dots,i_d})_{i_1 \\in [n_1], \\dots, i_d \\in [n_d]}$ with $T_{i_1,\\dots,i_d} \\in  \\mathbb{R}.$\n",
        "* Multidimensional array of numbers.\n",
        "* Multilinear form on $\\mathbb{R}^{n_1} \\times \\dots \\times \\mathbb{R}^{n_d}.$\n",
        "\n",
        "1D tensor is a vector. 2D is a matrix."
      ]
    },
    {
      "cell_type": "markdown",
      "metadata": {
        "id": "znkG4xnbHLB6"
      },
      "source": [
        " Different ways to create NumPy arrays (np.array(), np.zeros(), np.ones(), np.arange(), np.linspace(), np.random)"
      ]
    },
    {
      "cell_type": "code",
      "execution_count": 2,
      "metadata": {
        "colab": {
          "base_uri": "https://localhost:8080/"
        },
        "id": "Lk7BzHxMnPsy",
        "outputId": "95e53835-bff6-4819-d1e5-d23ff866ae2a"
      },
      "outputs": [
        {
          "name": "stdout",
          "output_type": "stream",
          "text": [
            "int64\n",
            "float64\n",
            "bool\n"
          ]
        }
      ],
      "source": [
        "my_array = np.array([3,4,5,5,6])\n",
        "print(my_array.dtype)\n",
        "\n",
        "\n",
        "my_array = np.array([3,4,5.1 ,5,6])\n",
        "print(my_array.dtype)\n",
        "\n",
        "my_array = np.array([True, False, True])\n",
        "print(my_array.dtype)\n"
      ]
    },
    {
      "cell_type": "code",
      "execution_count": 3,
      "metadata": {
        "colab": {
          "base_uri": "https://localhost:8080/"
        },
        "id": "t0ojPpKI5Uxb",
        "outputId": "5b691ef8-aa9a-416d-ede9-68d2972a311b"
      },
      "outputs": [
        {
          "name": "stdout",
          "output_type": "stream",
          "text": [
            "[[1. 1. 1. 1.]\n",
            " [1. 1. 1. 1.]]\n",
            "--------------------\n",
            "[[[1. 1. 1. 1.]\n",
            "  [1. 1. 1. 1.]]\n",
            "\n",
            " [[1. 1. 1. 1.]\n",
            "  [1. 1. 1. 1.]]\n",
            "\n",
            " [[1. 1. 1. 1.]\n",
            "  [1. 1. 1. 1.]]]\n"
          ]
        }
      ],
      "source": [
        "my_ones_i_j = np.ones((2,4))\n",
        "print(my_ones_i_j)\n",
        "print('--------------------')\n",
        "my_ones_i_j_k = np.ones((3,2,4))\n",
        "print(my_ones_i_j_k)"
      ]
    },
    {
      "cell_type": "code",
      "execution_count": 4,
      "metadata": {
        "colab": {
          "base_uri": "https://localhost:8080/"
        },
        "id": "8oav8lYt7bsT",
        "outputId": "6136e8a1-e3e6-4b24-8dea-b0b5d10574a1"
      },
      "outputs": [
        {
          "name": "stdout",
          "output_type": "stream",
          "text": [
            "[[6 3 7 4]\n",
            " [6 9 2 6]\n",
            " [7 4 3 7]]\n"
          ]
        }
      ],
      "source": [
        "np.random.seed(42)\n",
        "my_random_integers_i_j = np.random.randint(0,10, size=(3,4))\n",
        "print(my_random_integers_i_j)"
      ]
    },
    {
      "cell_type": "code",
      "execution_count": 5,
      "metadata": {
        "colab": {
          "base_uri": "https://localhost:8080/"
        },
        "id": "ZeXlq1fJ8cuI",
        "outputId": "60f8627f-d1f3-425c-b1f0-dc4ddc82df2b"
      },
      "outputs": [
        {
          "name": "stdout",
          "output_type": "stream",
          "text": [
            "[[[[ 1.5 -2.2 -0.6  0.2  3.5]\n",
            "   [ 3.5  5.6 -1.4  0.2 -0.4]\n",
            "   [ 7.7 -2.5 -1.2  2.9  3.2]\n",
            "   [ 3.2  2.   0.6  1.1  2.1]]\n",
            "\n",
            "  [[ 0.1  3.8  2.1  1.6  1. ]\n",
            "   [-0.9  3.   0.7  0.2  6.1]\n",
            "   [ 0.1  3.4  5.4 -2.2 -2.4]\n",
            "   [-1.   2.   4.6 -0.3  1.1]]\n",
            "\n",
            "  [[ 4.1  0.8  6.7 -1.8  2.4]\n",
            "   [-0.2  2.   0.6  0.5  3.2]\n",
            "   [-2.5 -0.8 -2.1 -1.6  0.2]\n",
            "   [-1.9  4.8  3.   6.1  1.9]]]\n",
            "\n",
            "\n",
            " [[[ 1.4  2.3 -1.1  1.6  2.2]\n",
            "   [ 0.5  3.8 -1.   5.1 -2.9]\n",
            "   [-0.8  3.  10.4 -1.  -0.4]\n",
            "   [-0.5 -0.8  5.1  1.6  4.2]]\n",
            "\n",
            "  [[-1.4  0.   1.8  5.4  2. ]\n",
            "   [ 1.9 -0.5 -0.  -1.6  0.9]\n",
            "   [ 4.1 -0.4 -0.7  0.4 -0.8]\n",
            "   [ 0.8  0.6  1.2  7.3  4.3]]\n",
            "\n",
            "  [[ 6.9 -0.   1.9  0.7 -1.7]\n",
            "   [ 2.5  1.3 -0.7  2.7  5. ]\n",
            "   [ 2.1  3.5 -2.  -1.  -0. ]\n",
            "   [-1.4 -1.   3.2 -1.6  0.5]]]]\n"
          ]
        }
      ],
      "source": [
        "np.random.seed(42)\n",
        "my_gunbel_i_j_k_l = np.random.gumbel(0,2, size=(2,3,4,5))\n",
        "\n",
        "print(my_gunbel_i_j_k_l.round(1))"
      ]
    },
    {
      "cell_type": "markdown",
      "metadata": {
        "id": "SXqkQIdVICEJ"
      },
      "source": [
        "Array attributes: shape, size, dtype, ndim"
      ]
    },
    {
      "cell_type": "code",
      "execution_count": 6,
      "metadata": {
        "colab": {
          "base_uri": "https://localhost:8080/"
        },
        "id": "4iNZtpJOICSr",
        "outputId": "c9204080-38cf-4a28-8ed0-b3b01c982fe6"
      },
      "outputs": [
        {
          "name": "stdout",
          "output_type": "stream",
          "text": [
            "(2, 4)\n",
            "(2, 3, 4, 5)\n"
          ]
        }
      ],
      "source": [
        "print(my_ones_i_j.shape)\n",
        "print(my_gunbel_i_j_k_l.shape)"
      ]
    },
    {
      "cell_type": "code",
      "execution_count": 7,
      "metadata": {
        "colab": {
          "base_uri": "https://localhost:8080/"
        },
        "id": "Hyg-GJkTqRHn",
        "outputId": "37c134b8-45c1-40b3-859e-02fac9f75575"
      },
      "outputs": [
        {
          "name": "stdout",
          "output_type": "stream",
          "text": [
            "8\n",
            "120\n"
          ]
        }
      ],
      "source": [
        "print(my_ones_i_j.size)\n",
        "print(my_gunbel_i_j_k_l.size)"
      ]
    },
    {
      "cell_type": "code",
      "execution_count": 8,
      "metadata": {
        "colab": {
          "base_uri": "https://localhost:8080/"
        },
        "id": "Qa-Ek6fLqXD2",
        "outputId": "48dbcf0c-1765-4584-cd1c-b7f86e68cc34"
      },
      "outputs": [
        {
          "name": "stdout",
          "output_type": "stream",
          "text": [
            "2\n",
            "4\n"
          ]
        }
      ],
      "source": [
        "print(my_ones_i_j.ndim)\n",
        "print(my_gunbel_i_j_k_l.ndim)"
      ]
    },
    {
      "cell_type": "markdown",
      "metadata": {
        "id": "46Jr-w51LQfR"
      },
      "source": [
        "Array methods: mean(),sum(), max(), argmax()"
      ]
    },
    {
      "cell_type": "markdown",
      "metadata": {
        "id": "7xM5hJmKrBbj"
      },
      "source": [
        "$S_i = \\sum_j A_{ij}$"
      ]
    },
    {
      "cell_type": "code",
      "execution_count": 9,
      "metadata": {
        "colab": {
          "base_uri": "https://localhost:8080/"
        },
        "id": "QpftT8Bh69HW",
        "outputId": "96eb3b31-ee3f-4e3e-da35-df56269852ca"
      },
      "outputs": [
        {
          "name": "stdout",
          "output_type": "stream",
          "text": [
            "(100,)\n"
          ]
        }
      ],
      "source": [
        "np.random.seed(42)\n",
        "my_random_integers_i_j = np.random.randint(0,10, size=(100,150))\n",
        "\n",
        "sum_i = my_random_integers_i_j.sum(1)\n",
        "print(sum_i.shape)"
      ]
    },
    {
      "cell_type": "markdown",
      "metadata": {
        "id": "xwr1r-ORq-Do"
      },
      "source": [
        "$M_{ik} = \\arg \\max_{j}\\{A_{ijk}\\} $ (breaking ties in favour of lower $j$)"
      ]
    },
    {
      "cell_type": "code",
      "execution_count": 10,
      "metadata": {
        "colab": {
          "base_uri": "https://localhost:8080/"
        },
        "id": "JplF5qfDLTol",
        "outputId": "a2e59353-ba4d-4483-d0a9-41cc410e319c"
      },
      "outputs": [
        {
          "name": "stdout",
          "output_type": "stream",
          "text": [
            "[[[0.37 0.95 0.73 0.6  0.16 0.16 0.06 0.87 0.6  0.71]\n",
            "  [0.02 0.97 0.83 0.21 0.18 0.18 0.3  0.52 0.43 0.29]\n",
            "  [0.61 0.14 0.29 0.37 0.46 0.79 0.2  0.51 0.59 0.05]\n",
            "  [0.61 0.17 0.07 0.95 0.97 0.81 0.3  0.1  0.68 0.44]\n",
            "  [0.12 0.5  0.03 0.91 0.26 0.66 0.31 0.52 0.55 0.18]]\n",
            "\n",
            " [[0.97 0.78 0.94 0.89 0.6  0.92 0.09 0.2  0.05 0.33]\n",
            "  [0.39 0.27 0.83 0.36 0.28 0.54 0.14 0.8  0.07 0.99]\n",
            "  [0.77 0.2  0.01 0.82 0.71 0.73 0.77 0.07 0.36 0.12]\n",
            "  [0.86 0.62 0.33 0.06 0.31 0.33 0.73 0.64 0.89 0.47]\n",
            "  [0.12 0.71 0.76 0.56 0.77 0.49 0.52 0.43 0.03 0.11]]]\n",
            "-----------------\n",
            "[[2 1 1 3 3 3 4 0 3 0]\n",
            " [0 0 0 0 4 0 2 1 3 1]]\n"
          ]
        }
      ],
      "source": [
        "np.random.seed(42)\n",
        "my_array = np.random.rand(2,5,10)\n",
        "print(my_array.round(2))\n",
        "print('-----------------')\n",
        "print(my_array.argmax(1))"
      ]
    },
    {
      "cell_type": "markdown",
      "metadata": {
        "id": "6qPG20w1IHlG"
      },
      "source": [
        "# Array Indexing, Slicing, and Reshaping"
      ]
    },
    {
      "cell_type": "markdown",
      "metadata": {
        "id": "9gpv_T7CJz_4"
      },
      "source": [
        "Basic indexing and slicing"
      ]
    },
    {
      "cell_type": "code",
      "execution_count": 11,
      "metadata": {
        "colab": {
          "base_uri": "https://localhost:8080/"
        },
        "id": "7m7y_IRWIII8",
        "outputId": "62265e2a-fded-4446-ade9-cca5ccafc98c"
      },
      "outputs": [
        {
          "name": "stdout",
          "output_type": "stream",
          "text": [
            "(5, 10, 9)\n",
            "(3, 3, 9)\n"
          ]
        }
      ],
      "source": [
        "np.random.seed(42)\n",
        "my_array_i_j_k = np.random.randint(0,10, size=(5,10,9))\n",
        "\n",
        "print(my_array_i_j_k.shape)\n",
        "print(my_array_i_j_k[2:,-3:].shape)"
      ]
    },
    {
      "cell_type": "markdown",
      "metadata": {
        "id": "SDSuAZdGJ2YN"
      },
      "source": [
        "Fancy indexing"
      ]
    },
    {
      "cell_type": "markdown",
      "metadata": {
        "id": "D25mjbpSFdx3"
      },
      "source": [
        "You got a tensor $(T_{i_1,\\dots,i_d})_{i_1 \\in [D_1], \\dots, i_d \\in [D_d]}$ and also $k\\leq d$ (index) tensors $N^\\ell_{j_1,\\dots,j_m}$ which are of the same shape and are such that $N^\\ell_{j_1,\\dots,j_m} \\in [D_\\ell],$ so that the $\\ell$-th tensor $N^\\ell$ picks the indeces from the $\\ell$-th dimension of $T$. The resulting tensor will have the dimension of the indexing tensors concatenated to the dimensions of the non indexed dimensions of $T.$\n",
        "\n",
        "The order of the dimensions is preserved if you index adjacent dimensions. Otherwise the new dimensions are stucked on the left of the non-indexed dimensions."
      ]
    },
    {
      "cell_type": "markdown",
      "metadata": {
        "id": "LLBL7pP8gcg3"
      },
      "source": [
        "$T_{ijkm}, N^2_{pq},N^3_{pq}$ result in $A_{ijpq} = T_{i,j,m,N^2_{pq},N^3_{pq}}$"
      ]
    },
    {
      "cell_type": "code",
      "execution_count": 12,
      "metadata": {
        "colab": {
          "base_uri": "https://localhost:8080/"
        },
        "id": "GbnNruhEgVlF",
        "outputId": "4b4ddf2e-9329-4bb9-e834-8fb39d7b1a4b"
      },
      "outputs": [
        {
          "name": "stdout",
          "output_type": "stream",
          "text": [
            "(50, 40, 2, 3)\n"
          ]
        }
      ],
      "source": [
        "my_array_i_j_k_m = np.random.normal(0,10, size=(50,40,90,60))\n",
        "\n",
        "\n",
        "dim2_indeces_p_q = np.random.randint(0,9, size=(2,3))\n",
        "dim3_indeces_p_q = np.random.randint(0,6, size=(2,3))\n",
        "my_array_p_q_j_k = my_array_i_j_k_m[:,:,dim2_indeces_p_q,dim3_indeces_p_q]\n",
        "print(my_array_p_q_j_k.shape)"
      ]
    },
    {
      "cell_type": "markdown",
      "metadata": {
        "id": "m2Lg8pzqt9-C"
      },
      "source": [
        "$T_{ijkm}, N^0_{pq},N^3_{pq}$ result in $A_{pqjm} = T_{N^0_{pq},j,m,,N^3_{pq}}$\n",
        "\n"
      ]
    },
    {
      "cell_type": "code",
      "execution_count": 13,
      "metadata": {
        "colab": {
          "base_uri": "https://localhost:8080/"
        },
        "id": "dxauE6RXCB5k",
        "outputId": "91c02c91-c609-4002-adb4-ac7b6dc84644"
      },
      "outputs": [
        {
          "name": "stdout",
          "output_type": "stream",
          "text": [
            "(2, 3, 40, 90)\n"
          ]
        }
      ],
      "source": [
        "my_array_i_j_k_m = np.random.normal(0,10, size=(50,40,90,60))\n",
        "\n",
        "\n",
        "dim0_indeces_p_q = np.random.randint(0,4, size=(2,3))\n",
        "dim3_indeces_p_q = np.random.randint(0,6, size=(2,3))\n",
        "my_array_p_q_j_k = my_array_i_j_k_m[dim0_indeces_p_q,:,:,dim3_indeces_p_q]\n",
        "print(my_array_p_q_j_k.shape)"
      ]
    },
    {
      "cell_type": "markdown",
      "metadata": {
        "id": "P0KVr-HKnZ2t"
      },
      "source": [
        "$T_{ijk},$ $N^0_{p\\cdot}$ $N^0_{\\cdot q}$ get where by $N^0_{p\\cdot}$ we mean the tensor is constant in the second dimension, obtain $A_{pqj} = T_{N^0_{p \\cdot},j,N^0_{ \\cdot q} }$"
      ]
    },
    {
      "cell_type": "code",
      "execution_count": 14,
      "metadata": {
        "colab": {
          "base_uri": "https://localhost:8080/"
        },
        "id": "pDursJb6m2YX",
        "outputId": "dbe347f5-cb0c-4862-a27c-63f8d603a287"
      },
      "outputs": [
        {
          "name": "stdout",
          "output_type": "stream",
          "text": [
            "(3, 2, 40)\n"
          ]
        }
      ],
      "source": [
        "my_array_i_j_k = np.random.normal(0,10, size=(50,40,90))\n",
        "\n",
        "row_indeces_p = np.random.randint(0,5, size= 3)\n",
        "column_indeces_q = np.random.randint(0,9, size= 2 )\n",
        "\n",
        "my_array_p_q_j= my_array_i_j_k[row_indeces_p[:,None],: ,column_indeces_q[None,:]]\n",
        "\n",
        "print(my_array_p_q_j.shape)"
      ]
    },
    {
      "cell_type": "markdown",
      "metadata": {
        "id": "JhArgh5jKA7r"
      },
      "source": [
        "Boolean Indexing"
      ]
    },
    {
      "cell_type": "markdown",
      "metadata": {
        "id": "BaexWDRd0i9x"
      },
      "source": [
        "Now say you got tensor $T_{i_1,\\dots,i_d}$ and a 1D boolen vectors $b$ with having the same lenght as the dimension say $i_1$ of $T$. We want to get $T_{i_1,\\dots,i_d}$ restricted to $i_1$ such that $b_{i_1} is True."
      ]
    },
    {
      "cell_type": "code",
      "execution_count": 15,
      "metadata": {
        "colab": {
          "base_uri": "https://localhost:8080/"
        },
        "id": "9JzcfiUCGMeH",
        "outputId": "3b9716ca-0391-4cce-a620-8448bdcd8d5b"
      },
      "outputs": [
        {
          "data": {
            "text/plain": [
              "(3, 9, 1, 8)"
            ]
          },
          "execution_count": 15,
          "metadata": {},
          "output_type": "execute_result"
        }
      ],
      "source": [
        "np.random.seed(42)\n",
        "my_array_i_j_k_m = np.random.randint(-10,10, size=(10,9,5,8))\n",
        "\n",
        "my_rows_i = np.random.randint(0,2, size=(10), dtype= bool)\n",
        "my_columns_k = np.random.randint(0,2, size=(5), dtype= bool)\n",
        "\n",
        "my_sub_array = my_array_i_j_k_m[my_rows_i][:,:,my_columns_k]\n",
        "my_sub_array.shape"
      ]
    },
    {
      "cell_type": "markdown",
      "metadata": {
        "id": "SHWMZgm-KbU6"
      },
      "source": [
        "Reshaping and flattening"
      ]
    },
    {
      "cell_type": "markdown",
      "metadata": {
        "id": "LOIULh7E4I8-"
      },
      "source": [
        "$A_{i,j,k}$ of shape $N \\times M \\times K$ ---> $A_{ij,k}$ of shape $NM \\times K$"
      ]
    },
    {
      "cell_type": "code",
      "execution_count": 16,
      "metadata": {
        "colab": {
          "base_uri": "https://localhost:8080/"
        },
        "id": "wnbd87xwKdAb",
        "outputId": "4f2e44b8-1b70-450b-d7e7-34ed6a6bcf19"
      },
      "outputs": [
        {
          "name": "stdout",
          "output_type": "stream",
          "text": [
            "(50, 6)\n"
          ]
        }
      ],
      "source": [
        "np.random.seed(42)\n",
        "my_array_i_j_k = np.random.randint(-10,10, size=(10,5,6))\n",
        "my_array_ij_k = my_array_i_j_k.reshape(50,6)\n",
        "\n",
        "print(my_array_ij_k.shape)"
      ]
    },
    {
      "cell_type": "markdown",
      "metadata": {
        "id": "1R0EzDAuKl6L"
      },
      "source": [
        "$A_{i,j,k}$ of shape $N \\times M \\times K$ ---> $A_{ijk}$ of shape $NMK$"
      ]
    },
    {
      "cell_type": "code",
      "execution_count": 17,
      "metadata": {
        "colab": {
          "base_uri": "https://localhost:8080/"
        },
        "id": "JSTRXI5WKPcK",
        "outputId": "55c0e1c8-e6ab-4f4d-fe91-cde223e6559e"
      },
      "outputs": [
        {
          "data": {
            "text/plain": [
              "(300,)"
            ]
          },
          "execution_count": 17,
          "metadata": {},
          "output_type": "execute_result"
        }
      ],
      "source": [
        "my_array_i_j_k.flatten().shape"
      ]
    },
    {
      "cell_type": "markdown",
      "metadata": {
        "id": "6HBUv9LAJmgJ"
      },
      "source": [
        "$A_{i,j}$ of shape $N \\times M$  ---> $A_{ij}$ of shape $NM$"
      ]
    },
    {
      "cell_type": "code",
      "execution_count": 18,
      "metadata": {
        "colab": {
          "base_uri": "https://localhost:8080/"
        },
        "id": "NGuRoZH4I0k5",
        "outputId": "a108a41b-501a-4df8-aec4-bd18c47757d3"
      },
      "outputs": [
        {
          "name": "stdout",
          "output_type": "stream",
          "text": [
            "[[-4  9  4]\n",
            " [ 0 -3 -4]]\n",
            "-----------------\n",
            "[-4  9  4  0 -3 -4]\n",
            "-----------------\n",
            "[-4  9  4  0 -3 -4]\n"
          ]
        }
      ],
      "source": [
        "np.random.seed(42)\n",
        "my_array_i_j = np.random.randint(-10,10, size=(2,3))\n",
        "print(my_array_i_j)\n",
        "print('-----------------')\n",
        "print(my_array_i_j.reshape(6))\n",
        "print('-----------------')\n",
        "print(my_array_i_j.flatten())"
      ]
    },
    {
      "cell_type": "markdown",
      "metadata": {
        "id": "P34Uc6vkM29X"
      },
      "source": [
        "# Element-wise Operations and Vectorization"
      ]
    },
    {
      "cell_type": "markdown",
      "metadata": {
        "id": "g1vRHGaeOIw8"
      },
      "source": [
        "addition, multiplication, division"
      ]
    },
    {
      "cell_type": "markdown",
      "metadata": {
        "id": "dMJ_D1Os40qT"
      },
      "source": [
        "$C_{ij} = A_{ij} + B_{ij}$"
      ]
    },
    {
      "cell_type": "code",
      "execution_count": 19,
      "metadata": {
        "colab": {
          "base_uri": "https://localhost:8080/"
        },
        "id": "fExBUpmTKsLO",
        "outputId": "1bc20028-77b9-4867-d375-fdf555297d0e"
      },
      "outputs": [
        {
          "name": "stdout",
          "output_type": "stream",
          "text": [
            "[[-4  9  4]\n",
            " [ 0 -3 -4]]\n",
            "+\n",
            "[[ 8  0  0]\n",
            " [-7 -3 -8]]\n",
            "=\n",
            "[[  4   9   4]\n",
            " [ -7  -6 -12]]\n"
          ]
        }
      ],
      "source": [
        "np.random.seed(42)\n",
        "my_array_i_j = np.random.randint(-10,10, size=(2,3))\n",
        "my_other_array_i_j = np.random.randint(-10,10, size=(2,3))\n",
        "print(my_array_i_j)\n",
        "print('+')\n",
        "print(my_other_array_i_j)\n",
        "print('=')\n",
        "print(my_array_i_j + my_other_array_i_j)"
      ]
    },
    {
      "cell_type": "markdown",
      "metadata": {
        "id": "uK4QZQYsNiap"
      },
      "source": [
        "$T_{i,j,k} = A_{i,j,k}  B_{i,j}$"
      ]
    },
    {
      "cell_type": "code",
      "execution_count": 20,
      "metadata": {
        "colab": {
          "base_uri": "https://localhost:8080/"
        },
        "id": "42hF1j15LUbP",
        "outputId": "eca0b443-4c4b-4bd6-ffd0-e67e69be0f5c"
      },
      "outputs": [
        {
          "name": "stdout",
          "output_type": "stream",
          "text": [
            "(10, 3, 12)\n"
          ]
        }
      ],
      "source": [
        "np.random.seed(42)\n",
        "A_i_j_k = np.random.randint(-10,10, size=(10,3,12))\n",
        "B_i_j = np.random.randint(-10,10, size= (10,3))\n",
        "\n",
        "T_i_j_k = (A_i_j_k * B_i_j[:,:,None])\n",
        "\n",
        "print(T_i_j_k.shape)"
      ]
    },
    {
      "cell_type": "markdown",
      "metadata": {
        "id": "AyCvyAWIOgpP"
      },
      "source": [
        "# Matrix operations and Linear Algebra"
      ]
    },
    {
      "cell_type": "markdown",
      "metadata": {
        "id": "9QOE00nZ6gwU"
      },
      "source": [
        "Matrix multiplication is @. This works on tensors like this: given tensors\n",
        "$ A_{i_d,\\dots,i_1 , j_1,j_2}$ and $ B_{i_{d'},\\dots,i_1 , j_2,j_3}$ with dimensions $i_1,\\dots i_{\\min\\{d,d'\\}}$ of the same lenght and the last 2 organized as shown (last of dimension of $A$ matches second to last dimension in $B$). Then M = A @ B is $M_{i_{\\max\\{d,d'\\}},\\dots,i_1 , j_1,j_3} = \\sum_{j_2}A_{i_d,\\dots,i_1 , j_1,j_2} B_{i_{d'},\\dots,i_1 , j_2,j_3}.$"
      ]
    },
    {
      "cell_type": "markdown",
      "metadata": {
        "id": "G3thMVe5OZmZ"
      },
      "source": [
        "$M_{i,j,\\ell} = \\sum_{k} A_{i,j,k} B_{k,\\ell}$"
      ]
    },
    {
      "cell_type": "code",
      "execution_count": 21,
      "metadata": {
        "colab": {
          "base_uri": "https://localhost:8080/"
        },
        "id": "jZlN8rJ8OkXo",
        "outputId": "b7ad718d-b7a1-4add-b1b0-87ca1213d21f"
      },
      "outputs": [
        {
          "name": "stdout",
          "output_type": "stream",
          "text": [
            "(30, 20, 7)\n"
          ]
        }
      ],
      "source": [
        "A_i_j_k = np.random.rand(30,20,5)\n",
        "B_k_l = np.random.rand(5,7)\n",
        "\n",
        "M_i_j_l = (A_i_j_k @ B_k_l)\n",
        "print(M_i_j_l.shape)"
      ]
    },
    {
      "cell_type": "markdown",
      "metadata": {
        "id": "jSfzcWL8j227"
      },
      "source": [
        "$M_{i,j,\\ell} = \\sum_{k} A_{i,j,k} B_{i,k,\\ell}$"
      ]
    },
    {
      "cell_type": "code",
      "execution_count": 22,
      "metadata": {
        "colab": {
          "base_uri": "https://localhost:8080/"
        },
        "id": "1_oERSUZi4dG",
        "outputId": "1b42ae61-f734-4139-e2ef-ca6ae200ece2"
      },
      "outputs": [
        {
          "name": "stdout",
          "output_type": "stream",
          "text": [
            "(30, 20, 7)\n"
          ]
        }
      ],
      "source": [
        "A_i_j_k = np.random.rand(30,20,5)\n",
        "B_i_k_l = np.random.rand(30,5,7)\n",
        "\n",
        "M_i_j_l = (A_i_j_k @ B_i_k_l)\n",
        "print(M_i_j_l.shape)"
      ]
    },
    {
      "cell_type": "markdown",
      "metadata": {
        "id": "jNS4JFfIj6AB"
      },
      "source": [
        "$M_{p,i,j,\\ell} = \\sum_{k} A_{i,j,k} B_{p,k,\\ell}$"
      ]
    },
    {
      "cell_type": "code",
      "execution_count": 23,
      "metadata": {
        "colab": {
          "base_uri": "https://localhost:8080/"
        },
        "id": "Bdp_nBBrjGEk",
        "outputId": "9ceb70db-297c-4c74-f1e5-c88124a3a5e4"
      },
      "outputs": [
        {
          "name": "stdout",
          "output_type": "stream",
          "text": [
            "(100, 30, 20, 7)\n"
          ]
        }
      ],
      "source": [
        "A_i_j_k = np.random.rand(30,20,5)\n",
        "B_p_k_l = np.random.rand(100,5,7)\n",
        "\n",
        "M_p_i_j_l = (A_i_j_k @ B_p_k_l[:,None,:,:])\n",
        "print(M_p_i_j_l.shape)"
      ]
    },
    {
      "cell_type": "markdown",
      "metadata": {
        "id": "Hb134SmtlWNs"
      },
      "source": [
        "np.linalg contains many of linear algebra functions. Solve linear systems (np.linalg.solve) finding eigenvalues (np.linalg.eig()), computing determinant (np.linalg.det())..."
      ]
    },
    {
      "cell_type": "code",
      "execution_count": 24,
      "metadata": {
        "colab": {
          "base_uri": "https://localhost:8080/"
        },
        "id": "zVWFBvcRlXM9",
        "outputId": "b5650860-bdaa-4dda-fc4b-9355144226ba"
      },
      "outputs": [
        {
          "name": "stdout",
          "output_type": "stream",
          "text": [
            "True\n"
          ]
        }
      ],
      "source": [
        "A = np.random.rand(10,10)\n",
        "b = np.random.rand(10)\n",
        "\n",
        "x = np.linalg.solve(A,b)\n",
        "print(np.all(np.abs(A @ x - b) < 1e-13))"
      ]
    },
    {
      "cell_type": "markdown",
      "metadata": {
        "id": "xjKLLY5NL78H"
      },
      "source": [
        "# Markov Decision Problems"
      ]
    },
    {
      "cell_type": "markdown",
      "metadata": {
        "id": "ozUH2DwIztyI"
      },
      "source": [
        "States $X$ and actions $A$ (finite sets). Flow utility $ u_{ax},$ transition probabilities $P_{axx'}$ and discounta factor $\\beta \\in [0,1).$ We want to solve\n",
        "$$ V_x = \\max_{a \\in A} u_{ax} +\\beta \\sum_{x' \\in X} P_{axx'} V_{x'}$$"
      ]
    },
    {
      "cell_type": "code",
      "execution_count": 25,
      "metadata": {
        "id": "FlCjeAkIOoT-"
      },
      "outputs": [],
      "source": [
        "num_states = 10\n",
        "num_actions = 5\n",
        "beta = 0.9\n",
        "np.random.seed(42)\n",
        "u_a_x = np.random.rand(num_actions, num_states)\n",
        "P_a_x_xp = np.random.rand(num_actions, num_states, num_states)\n",
        "P_a_x_xp /= P_a_x_xp.sum(2)[:,:,None]"
      ]
    },
    {
      "cell_type": "markdown",
      "metadata": {
        "id": "Bvn4XeAy8I-3"
      },
      "source": [
        "**Value iteration:**\n",
        "\n",
        "\n",
        "Init: $V_x \\in \\mathbb{R}$ for each $x$\n",
        "\n",
        "Repeat\n",
        "* $V_x ← \\max_{a \\in A} u_{ax} + \\beta \\sum_{x' \\in X} P_{axx'} V_{x'}$ for each $x$\n",
        "\n",
        "until a certain tolerance is met."
      ]
    },
    {
      "cell_type": "code",
      "execution_count": 26,
      "metadata": {
        "colab": {
          "base_uri": "https://localhost:8080/"
        },
        "id": "-wqAc7evOoPc",
        "outputId": "33fbbc40-d938-4e39-8138-98582c70c751"
      },
      "outputs": [
        {
          "name": "stdout",
          "output_type": "stream",
          "text": [
            "converged in 306 iterations\n",
            "[7.59 7.95 7.74 7.95 7.9  7.82 7.3  7.79 7.69 7.61]\n",
            "[3 1 1 3 3 3 3 0 3 0]\n"
          ]
        }
      ],
      "source": [
        "max_iterations = 1000\n",
        "V_x = np.zeros(num_states)\n",
        "\n",
        "for iter in range(max_iterations):\n",
        "    # Value update\n",
        "    V_x_new = (u_a_x + beta * P_a_x_xp @ V_x).max(0)\n",
        "\n",
        "    # If value is almost stationary stop\n",
        "    if np.abs(V_x - V_x_new).max() < 1e-14:\n",
        "        print(f'converged in {iter+1} iterations')\n",
        "        break\n",
        "    V_x = V_x_new\n",
        "\n",
        "\n",
        "value_VI = V_x\n",
        "policy_VI = (u_a_x + beta * P_a_x_xp @ V_x).argmax(0)\n",
        "print(value_VI.round(2))\n",
        "print(policy_VI)"
      ]
    },
    {
      "cell_type": "markdown",
      "metadata": {
        "id": "fZV6U8NK0KgU"
      },
      "source": [
        "**Policy iteration:**\n",
        "\n",
        "Init: $\\mu_x \\in A$ for each $x$\n",
        "\n",
        "\n",
        "Repeat:\n",
        "* (policy evaluation) solve $(I - \\beta P^\\mu)V = u^\\mu$ for $V,$ where $u^\\mu_{x} = u_{\\mu_x x}$ and similarly for $P^\\mu.$\n",
        "* (policy improvement) $ \\mu_x ← \\arg\\max_{a \\in A} u_{ax} + \\beta \\sum_{x' \\in X} P_{axx'} V_x$ for each $x$ (breaking ties in favor of lower indeces).\n",
        "\n",
        "if the policy does not change (it is stationary) stop."
      ]
    },
    {
      "cell_type": "code",
      "execution_count": 27,
      "metadata": {
        "colab": {
          "base_uri": "https://localhost:8080/"
        },
        "id": "JPcDpEaKRDz9",
        "outputId": "cb3f9519-dc52-4f5a-c895-915d270086c2"
      },
      "outputs": [
        {
          "name": "stdout",
          "output_type": "stream",
          "text": [
            "converged in 3 iterations\n",
            "[7.59 7.95 7.74 7.95 7.9  7.82 7.3  7.79 7.69 7.61]\n",
            "[3 1 1 3 3 3 3 0 3 0]\n"
          ]
        }
      ],
      "source": [
        "mu_x = np.zeros(num_states, dtype=int)\n",
        "max_iter = 40\n",
        "\n",
        "for iter in range(max_iter):\n",
        "    # Policy evaluation\n",
        "    Vmu_x = np.linalg.solve(np.eye(num_states) - beta * P_a_x_xp[mu_x, np.arange(num_states), :],\n",
        "                            u_a_x[mu_x, np.arange(num_states)])\n",
        "\n",
        "    # Policy improvement\n",
        "    mu_x_new = (u_a_x + beta * P_a_x_xp @ Vmu_x).argmax(0)\n",
        "\n",
        "    # If policy is stationary stop\n",
        "    if np.all(mu_x == mu_x_new):\n",
        "        print(f'converged in {iter+1} iterations')\n",
        "        break\n",
        "\n",
        "    # Else, continue with mu_x_new\n",
        "    mu_x = mu_x_new\n",
        "\n",
        "\n",
        "value_PI = Vmu_x\n",
        "policy_PI = mu_x\n",
        "print(value_PI.round(2))\n",
        "print(policy_PI)"
      ]
    },
    {
      "cell_type": "markdown",
      "metadata": {
        "id": "agF9Ze--mLdu"
      },
      "source": [
        "Check this link for a discussion on the complexity of policy iteration.\n",
        "[Planning in MDPs - Lecture 4](https://rltheory.github.io/lecture-notes/planning-in-mdps/lec4/)\n"
      ]
    }
  ],
  "metadata": {
    "colab": {
      "provenance": []
    },
    "kernelspec": {
      "display_name": "myenv",
      "language": "python",
      "name": "python3"
    },
    "language_info": {
      "codemirror_mode": {
        "name": "ipython",
        "version": 3
      },
      "file_extension": ".py",
      "mimetype": "text/x-python",
      "name": "python",
      "nbconvert_exporter": "python",
      "pygments_lexer": "ipython3",
      "version": "3.10.10"
    }
  },
  "nbformat": 4,
  "nbformat_minor": 0
}
