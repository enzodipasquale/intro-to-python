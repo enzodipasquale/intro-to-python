{
  "cells": [
    {
      "cell_type": "markdown",
      "metadata": {
        "id": "xqwfiiUb5i3T"
      },
      "source": [
        "# Syntax"
      ]
    },
    {
      "cell_type": "markdown",
      "metadata": {
        "id": "3_NPFyvY5rGU"
      },
      "source": [
        "Defining variables"
      ]
    },
    {
      "cell_type": "code",
      "execution_count": 39,
      "metadata": {
        "colab": {
          "base_uri": "https://localhost:8080/"
        },
        "id": "qm2XlPdOi-yj",
        "outputId": "c93c7da2-e3f0-48c6-f0f8-add8c5b13818"
      },
      "outputs": [
        {
          "name": "stdout",
          "output_type": "stream",
          "text": [
            "Hello World!\n"
          ]
        }
      ],
      "source": [
        "my_string = 'Hello World!'\n",
        "print(my_string)"
      ]
    },
    {
      "cell_type": "code",
      "execution_count": 40,
      "metadata": {
        "colab": {
          "base_uri": "https://localhost:8080/"
        },
        "id": "-qhU-vD9jaPh",
        "outputId": "8e82640b-b631-4bc0-c6aa-5fbdf9d5b71e"
      },
      "outputs": [
        {
          "name": "stdout",
          "output_type": "stream",
          "text": [
            "Hello World!\n"
          ]
        }
      ],
      "source": [
        "my_string_1, my_string_2 = 'Hello', 'World!'\n",
        "print(my_string_1, my_string_2)"
      ]
    },
    {
      "cell_type": "markdown",
      "metadata": {
        "id": "-VeCalVh7u0l"
      },
      "source": [
        "# Data structures"
      ]
    },
    {
      "cell_type": "markdown",
      "metadata": {
        "id": "V77haJyrPS2v"
      },
      "source": [
        "str: there is much to say but since you focus in numerical methods in this course, you will not really need it here."
      ]
    },
    {
      "cell_type": "code",
      "execution_count": 41,
      "metadata": {
        "colab": {
          "base_uri": "https://localhost:8080/"
        },
        "id": "_XKcGbeXz9i4",
        "outputId": "30c350c7-9479-4c44-be13-85e231887831"
      },
      "outputs": [
        {
          "name": "stdout",
          "output_type": "stream",
          "text": [
            "Python is a high-level, interpreted programming language. It is known for its readability, simplicity, and vast libraries.\n"
          ]
        }
      ],
      "source": [
        "# Initial strings\n",
        "language = 'Python'\n",
        "description = 'is a high-level, interpreted programming language.'\n",
        "features = 'It is known for its readability, simplicity, and vast libraries.'\n",
        "\n",
        "# Concatenating the strings\n",
        "python_description = language + ' ' + description + ' ' + features\n",
        "\n",
        "# Print the final message\n",
        "print(python_description)\n"
      ]
    },
    {
      "cell_type": "markdown",
      "metadata": {
        "id": "AxcuD5lA8eI4"
      },
      "source": [
        "int, float, bool"
      ]
    },
    {
      "cell_type": "code",
      "execution_count": 42,
      "metadata": {
        "colab": {
          "base_uri": "https://localhost:8080/"
        },
        "id": "ZjlmVVWd4HA9",
        "outputId": "33fd1da8-2185-4123-bf73-288401718e31"
      },
      "outputs": [
        {
          "name": "stdout",
          "output_type": "stream",
          "text": [
            "<class 'int'>\n",
            "True\n"
          ]
        }
      ],
      "source": [
        "my_integer = 2048\n",
        "\n",
        "print(type(my_integer))\n",
        "\n",
        "check_inequality = 2 > 1\n",
        "print(check_inequality)"
      ]
    },
    {
      "cell_type": "code",
      "execution_count": 43,
      "metadata": {
        "colab": {
          "base_uri": "https://localhost:8080/"
        },
        "id": "lzO3tTM8Jgvs",
        "outputId": "ac6179b4-0fc9-4771-936e-872e01f1d39a"
      },
      "outputs": [
        {
          "name": "stdout",
          "output_type": "stream",
          "text": [
            "2049\n",
            "4096\n",
            "213772730161759466399474188010951219668541783644440884022479337796521365641656320135219708119058797636113432476439948596803993676274683289778502164749936497615274601236088241861530110071314012572282059053335018167187281410315759367677343260390298340254476992831941880070077716501984517057003761723411513271821967288407153482045359703563206815295489727157637378853678841190423513007240917554260603283649901383187401026719134076926139637205889786550207292745037826858210830309825485101724449119175164399951264490171867500411491201489160188706526682333712426243565644230529976761374701052840280131142292791473414077902956725015034140933773353533866127047937150370721670176000218453698618288461131098920080616958606452032146852926114680738529756826673156348037199462126273054339920374566564584309172711469680482082812290079723336181127082877312959917919190337798976554214858505938607501719273227391270307328578606513201477519512812963303469671766015587238583687206514042523416726952183235688591318812541117856105601053881996651845874572768453856668379685209983619028969526686410650350325567276179093764065532911167345145485043418345352717389458263137452802887076187180892067143925247464632770237387864651822486838129025416253726494036793809217792643030293124773960928568550669331488027352344465673803969150720626565679514896737544909950012564808013388679298823921750492778919168063812949308284459457283438547844388243293845039754408934890400669943173090246294171040502004047245949150505543142125459932078926762179257120398878558001371579003545147733419238694959273179892732692584076524015232972944306485923111042291881365613108669620486428265283039783958979187867799952049802973972732892510721139319315217956802631885636024195553938033390268850090172786178966664676324660848887415638162406034622749155863619238413264915145538850957396035338789660372822990345796970232898057224888249219103248395970800072634355344865439208745318508909131242050665583870027978941696860049303752127103163113217691959317916107305702036549599163088094539497377297569860575697628172025079873524465191336070428903130382643017742784142823825123656149826829690109241470403229722883856579041259859109141848755174638741908726609135747790699996955932078151840804326103063550996487645657187962347142034073224890216062417662525853872665228896427880913268182370900674102717189510123907285642763079867571459749218036319111801290471131662210073658747602212068423553927356142580116228970902857203202944900162606985628425924812873889885763116124260641726098499674093538451362317290009557711119701601676361854205115635177485163771930661443640697235939669708005395080222144360904441006978359210901817782259477545058823905149021331180654631884280884749535845710599687963464028814661973644144940504871655882385474194512645836561750254746753618797644622199632016010870726177578054981191086840145328371260885828078563209359967442020668588894946494072261997551135433943880837665041538028338132206698850421181442926592828490817934306969990800650424478087817992748378797095193055563715951464028257118160590879025923718982981142775968940828133446775912849471786780829176589957011621283759652169857970726274905909774997901468370826860234613340475794080217152183596635109230273870784856082264329586871696169000119609059674183521023841838041688746833027132477669376\n"
          ]
        }
      ],
      "source": [
        "#Addition\n",
        "print(my_integer + 1)\n",
        "#Multiplication\n",
        "print(my_integer * 2)\n",
        "#Exponentiation\n",
        "print(my_integer ** 1000)"
      ]
    },
    {
      "cell_type": "markdown",
      "metadata": {
        "id": "Z997nGvulmi7"
      },
      "source": [
        "You can check equalities, weak and strict inequalities  "
      ]
    },
    {
      "cell_type": "code",
      "execution_count": 44,
      "metadata": {
        "colab": {
          "base_uri": "https://localhost:8080/"
        },
        "id": "mJGdlbDRlzs0",
        "outputId": "6ff03c2c-5a63-42f5-873b-010781ab6033"
      },
      "outputs": [
        {
          "name": "stdout",
          "output_type": "stream",
          "text": [
            "False\n",
            "True\n",
            "True\n"
          ]
        }
      ],
      "source": [
        "print(2 + 2 == 5)\n",
        "print(2 + 2 != 5)\n",
        "print(1 + 1 <= 2)"
      ]
    },
    {
      "cell_type": "code",
      "execution_count": 45,
      "metadata": {
        "colab": {
          "base_uri": "https://localhost:8080/"
        },
        "id": "lKAk5_gJcLy1",
        "outputId": "7fea6e5e-4d20-4a5e-ab8c-44ea7ea09349"
      },
      "outputs": [
        {
          "name": "stdout",
          "output_type": "stream",
          "text": [
            "<class 'float'>\n"
          ]
        }
      ],
      "source": [
        "my_float = 2048.0\n",
        "print(type(my_float))"
      ]
    },
    {
      "cell_type": "markdown",
      "metadata": {
        "id": "7NdRf7RSHEKi"
      },
      "source": [
        "each float number is stored in 64 bits,\n",
        "* 52 for the fractional part $d$\n",
        "* 11 for the exponent $e$,\n",
        "* 1 for the sign $s$.\n",
        "\n",
        "This means that we have between 15 and 16 decimal digits in a fractional expantion (because $10^{15}< 2^{52} < 10^{16}$). The exponent part can bear numbers between $2^{1024}$ and $2^{-1023}$ (because $2^{11} = 2048$)"
      ]
    },
    {
      "cell_type": "markdown",
      "metadata": {
        "id": "yLm5PG0iK4Sm"
      },
      "source": [
        "This is the smallest number bigger than 0 in 64float arithmetic:"
      ]
    },
    {
      "cell_type": "code",
      "execution_count": 46,
      "metadata": {
        "colab": {
          "base_uri": "https://localhost:8080/"
        },
        "id": "yeS5x4KFKafg",
        "outputId": "f381adc5-f10a-47cb-d86a-2426b979085c"
      },
      "outputs": [
        {
          "name": "stdout",
          "output_type": "stream",
          "text": [
            "5e-324\n",
            "0.0\n",
            "True\n"
          ]
        }
      ],
      "source": [
        "smallest_positive_number = (2.0)**(-1023) * (2**(-51) )\n",
        "print(smallest_positive_number)\n",
        "print(smallest_positive_number /2)\n",
        "print(smallest_positive_number /2 == 0)"
      ]
    },
    {
      "cell_type": "markdown",
      "metadata": {
        "id": "aqc5sXcPO82b"
      },
      "source": [
        "The largest number is"
      ]
    },
    {
      "cell_type": "code",
      "execution_count": 47,
      "metadata": {
        "colab": {
          "base_uri": "https://localhost:8080/"
        },
        "id": "03h2F0QcK2fV",
        "outputId": "a8be6fb5-1d9b-4b57-a5cf-2a30645f3cd3"
      },
      "outputs": [
        {
          "name": "stdout",
          "output_type": "stream",
          "text": [
            "1.7976931348623155e+308\n",
            "inf\n"
          ]
        }
      ],
      "source": [
        "largest_number = (2.0)**(1023) * (1-2**(-52)) * 2\n",
        "print(largest_number)\n",
        "print(largest_number * 2)"
      ]
    },
    {
      "cell_type": "markdown",
      "metadata": {
        "id": "Ydk6l1AAPf9W"
      },
      "source": [
        "We check with sys"
      ]
    },
    {
      "cell_type": "code",
      "execution_count": 48,
      "metadata": {
        "colab": {
          "base_uri": "https://localhost:8080/"
        },
        "id": "Q4nSrimfNVkZ",
        "outputId": "8ab6f419-2227-466e-f4c3-82f29997e0ec"
      },
      "outputs": [
        {
          "name": "stdout",
          "output_type": "stream",
          "text": [
            "1.7976931348623157e+308\n"
          ]
        }
      ],
      "source": [
        "import sys\n",
        "print(sys.float_info.max)"
      ]
    },
    {
      "cell_type": "markdown",
      "metadata": {
        "id": "rdhwHoaKHfAw"
      },
      "source": [
        "Limits of float arithmentic."
      ]
    },
    {
      "cell_type": "code",
      "execution_count": 49,
      "metadata": {
        "colab": {
          "base_uri": "https://localhost:8080/"
        },
        "id": "TMDTVVddHAOK",
        "outputId": "74027d80-adc3-4311-9a0c-57f468716797"
      },
      "outputs": [
        {
          "name": "stdout",
          "output_type": "stream",
          "text": [
            "0.1 + 0.2 = 0.3? False\n",
            "10^16 +1.1234567890123457= 1.0000000000000002e+16\n",
            "1 +  10^(-16) > 1?:  False\n",
            "1 +  10^(-16) = 1?:  True\n"
          ]
        }
      ],
      "source": [
        "# Addition of two floating point numbers\n",
        "check_equality = .1 + .2 == .3\n",
        "print(\"0.1 + 0.2 = 0.3?\", check_equality)\n",
        "\n",
        "\n",
        "# Sum of large and small number\n",
        "large_number = 1e16\n",
        "small_number = 1.1234567890123456\n",
        "\n",
        "print(\"10^16 +\" + str(small_number)+ \"=\", large_number + small_number)\n",
        "\n",
        "print('1 +  10^(-16) > 1?: ', 1 + 1e-16 > 1.0)\n",
        "print('1 +  10^(-16) = 1?: ', 1 + 1e-16 == 1.0)\n"
      ]
    },
    {
      "cell_type": "markdown",
      "metadata": {
        "id": "SvQJ6nzJ8jd4"
      },
      "source": [
        "lists (ordered, mutable, indexing)"
      ]
    },
    {
      "cell_type": "code",
      "execution_count": 50,
      "metadata": {
        "colab": {
          "base_uri": "https://localhost:8080/"
        },
        "id": "rAWEXRss6ybE",
        "outputId": "ee1c61dc-125c-4fe7-970b-8aac12b64f87"
      },
      "outputs": [
        {
          "name": "stdout",
          "output_type": "stream",
          "text": [
            "<class 'list'>\n",
            "3\n"
          ]
        }
      ],
      "source": [
        "my_list = [1, 2, ['Hi', 'Ciao']]\n",
        "print(type(my_list))\n",
        "print(len(my_list))"
      ]
    },
    {
      "cell_type": "markdown",
      "metadata": {
        "id": "L7yhbmsaYdlC"
      },
      "source": [
        "Operations on lists"
      ]
    },
    {
      "cell_type": "code",
      "execution_count": 51,
      "metadata": {
        "colab": {
          "base_uri": "https://localhost:8080/"
        },
        "id": "0uxoAAgY68fR",
        "outputId": "c6ea866e-3db8-465b-d2bc-d29e0de211e5"
      },
      "outputs": [
        {
          "name": "stdout",
          "output_type": "stream",
          "text": [
            "[1, 2, ['Hi', 'Ciao'], 3, 4]\n",
            "[1, 2, ['Hi', 'Ciao'], 1, 2, ['Hi', 'Ciao'], 1, 2, ['Hi', 'Ciao'], 1, 2, ['Hi', 'Ciao']]\n"
          ]
        }
      ],
      "source": [
        "second_list = [3, 4]\n",
        "new_list = my_list + second_list\n",
        "print(new_list)\n",
        "\n",
        "repeated_list = my_list * 4\n",
        "print(repeated_list)"
      ]
    },
    {
      "cell_type": "markdown",
      "metadata": {
        "id": "KGKejYqVYgLc"
      },
      "source": [
        "Appending to lists"
      ]
    },
    {
      "cell_type": "code",
      "execution_count": 52,
      "metadata": {
        "colab": {
          "base_uri": "https://localhost:8080/"
        },
        "id": "ITn8iVE696Ba",
        "outputId": "0b1d6785-8e99-47b4-fe56-d82ee9bd0b1b"
      },
      "outputs": [
        {
          "name": "stdout",
          "output_type": "stream",
          "text": [
            "[1, 2, ['Hi', 'Ciao'], 3, 4, ['Ice-cream', 'Gelato']]\n"
          ]
        }
      ],
      "source": [
        "new_list.append(['Ice-cream', 'Gelato'])\n",
        "print(new_list)"
      ]
    },
    {
      "cell_type": "markdown",
      "metadata": {
        "id": "PddQdgvWYlkk"
      },
      "source": [
        "Check membership"
      ]
    },
    {
      "cell_type": "code",
      "execution_count": 53,
      "metadata": {
        "colab": {
          "base_uri": "https://localhost:8080/"
        },
        "id": "HcW3xZ05AnKM",
        "outputId": "8478d49f-e342-4797-9a85-1fde45a20ba1"
      },
      "outputs": [
        {
          "name": "stdout",
          "output_type": "stream",
          "text": [
            "False\n",
            "True\n"
          ]
        }
      ],
      "source": [
        "check_membership = 'Hi' in new_list\n",
        "print(check_membership)\n",
        "\n",
        "check_membership = (['Hi', 'Ciao'] in new_list)\n",
        "print(check_membership)"
      ]
    },
    {
      "cell_type": "markdown",
      "metadata": {
        "id": "zloTYL1iYqcr"
      },
      "source": [
        "Indexing"
      ]
    },
    {
      "cell_type": "code",
      "execution_count": 54,
      "metadata": {
        "colab": {
          "base_uri": "https://localhost:8080/"
        },
        "id": "VVHIyzKTRTS2",
        "outputId": "e80c622c-d98d-4c68-fcbc-87b9e0a4be36"
      },
      "outputs": [
        {
          "name": "stdout",
          "output_type": "stream",
          "text": [
            "1\n",
            "['Hi', 'Ciao']\n",
            "[4, ['Ice-cream', 'Gelato']]\n",
            "Ice-cream\n"
          ]
        }
      ],
      "source": [
        "first_element = new_list[0]\n",
        "print(first_element)\n",
        "\n",
        "third_element = new_list[2]\n",
        "print(third_element)\n",
        "\n",
        "\n",
        "last_two_elements = new_list[-2:]\n",
        "print(last_two_elements)\n",
        "\n",
        "first_element_of_last_element = last_two_elements[-1][0]\n",
        "print(first_element_of_last_element)"
      ]
    },
    {
      "cell_type": "markdown",
      "metadata": {
        "id": "MYsSRYDv8kuS"
      },
      "source": [
        "tuples (ordered, immutable, indexing)"
      ]
    },
    {
      "cell_type": "code",
      "execution_count": 55,
      "metadata": {
        "colab": {
          "base_uri": "https://localhost:8080/"
        },
        "id": "Qc-yfBy_-Vvq",
        "outputId": "2aa844d7-c515-4437-9f84-11111050e731"
      },
      "outputs": [
        {
          "name": "stdout",
          "output_type": "stream",
          "text": [
            "<class 'tuple'>\n",
            "(1, 2, 3, 'Hi', 4, 5)\n",
            "1\n",
            "('Hi', 4, 5)\n"
          ]
        }
      ],
      "source": [
        "my_tuple = (1, 2, 3, 'Hi')\n",
        "print(type(my_tuple))\n",
        "\n",
        "my_tuple += (4, 5)\n",
        "print(my_tuple)\n",
        "\n",
        "print(my_tuple[0])\n",
        "print(my_tuple[3:])"
      ]
    },
    {
      "cell_type": "markdown",
      "metadata": {
        "id": "IAlxrhj68lqv"
      },
      "source": [
        "dictionaries (unordered, mutable, key-indexing)\n",
        "\n",
        "dictionaries are key-value pairs stored as hash maps, allowing fast lookups, insertions, and deletions by key."
      ]
    },
    {
      "cell_type": "code",
      "execution_count": 56,
      "metadata": {
        "colab": {
          "base_uri": "https://localhost:8080/"
        },
        "id": "M6-M68_IRyVC",
        "outputId": "8628db84-4d8d-4cd8-b8ae-5b07f418ea70"
      },
      "outputs": [
        {
          "name": "stdout",
          "output_type": "stream",
          "text": [
            "dict_keys(['name', 'age', 'city'])\n",
            "dict_values(['Alice', 25, 'New York'])\n"
          ]
        }
      ],
      "source": [
        "my_dictionary = {\n",
        "    \"name\": \"Alice\",\n",
        "    \"age\": 25,\n",
        "    \"city\": \"New York\"\n",
        "}\n",
        "\n",
        "print(my_dictionary.keys())\n",
        "print(my_dictionary.values())"
      ]
    },
    {
      "cell_type": "markdown",
      "metadata": {
        "id": "vUbBHMyGZYTj"
      },
      "source": [
        "Can look like a dataset"
      ]
    },
    {
      "cell_type": "code",
      "execution_count": 57,
      "metadata": {
        "colab": {
          "base_uri": "https://localhost:8080/"
        },
        "id": "3JPlH8iQ_AQQ",
        "outputId": "bdd6a3d0-e0e1-40d7-f61d-22f70f473b1f"
      },
      "outputs": [
        {
          "name": "stdout",
          "output_type": "stream",
          "text": [
            "dict_keys(['student_1', 'student_2', 'student_3'])\n",
            "dict_values([{'name': 'Alice', 'age': 20, 'major': 'Computer Science', 'GPA': 3.8}, {'name': 'Bob', 'age': 22, 'major': 'Mathematics', 'GPA': 3.6}, {'name': 'Charlie', 'age': 21, 'major': 'Physics', 'GPA': 3.9}])\n"
          ]
        }
      ],
      "source": [
        "# Dataset: Student Information\n",
        "students_data = {\n",
        "    \"student_1\": {\n",
        "        \"name\": \"Alice\",\n",
        "        \"age\": 20,\n",
        "        \"major\": \"Computer Science\",\n",
        "        \"GPA\": 3.8\n",
        "    },\n",
        "    \"student_2\": {\n",
        "        \"name\": \"Bob\",\n",
        "        \"age\": 22,\n",
        "        \"major\": \"Mathematics\",\n",
        "        \"GPA\": 3.6\n",
        "    },\n",
        "    \"student_3\": {\n",
        "        \"name\": \"Charlie\",\n",
        "        \"age\": 21,\n",
        "        \"major\": \"Physics\",\n",
        "        \"GPA\": 3.9\n",
        "    }\n",
        "}\n",
        "\n",
        "print(students_data.keys())\n",
        "print(students_data.values())"
      ]
    },
    {
      "cell_type": "markdown",
      "metadata": {
        "id": "m3mKFjicZycR"
      },
      "source": [
        "You access by key"
      ]
    },
    {
      "cell_type": "code",
      "execution_count": 58,
      "metadata": {
        "colab": {
          "base_uri": "https://localhost:8080/"
        },
        "id": "Q-ACPPFXZ0IF",
        "outputId": "62b8e208-152b-4ca6-b9fb-264b96bc1e2a"
      },
      "outputs": [
        {
          "name": "stdout",
          "output_type": "stream",
          "text": [
            "{'name': 'Alice', 'age': 20, 'major': 'Computer Science', 'GPA': 3.8}\n",
            "Alice\n"
          ]
        }
      ],
      "source": [
        "print(students_data['student_1'])\n",
        "print(students_data['student_1']['name'])"
      ]
    },
    {
      "cell_type": "markdown",
      "metadata": {
        "id": "qfTvnlkoZitS"
      },
      "source": [
        "You can add key-value pairs. You can check membership of values and keys."
      ]
    },
    {
      "cell_type": "code",
      "execution_count": 59,
      "metadata": {
        "colab": {
          "base_uri": "https://localhost:8080/"
        },
        "id": "6cSflFKZ_1hg",
        "outputId": "261bf3bf-a51f-4620-be78-e8f69112a25a"
      },
      "outputs": [
        {
          "name": "stdout",
          "output_type": "stream",
          "text": [
            "False\n",
            "True\n",
            "True\n"
          ]
        }
      ],
      "source": [
        "another_student = {\n",
        "                      \"name\": \"Anne\",\n",
        "                      \"age\": 23,\n",
        "                      \"major\": \"Economics\",\n",
        "                      \"GPA\": 4\n",
        "                  }\n",
        "\n",
        "print(another_student in students_data.values())\n",
        "\n",
        "# Add key 'student_4' with value equal to the variable another_student\n",
        "students_data['student_4'] = another_student\n",
        "\n",
        "print(another_student in students_data.values())\n",
        "print('student_4' in students_data.keys())"
      ]
    },
    {
      "cell_type": "markdown",
      "metadata": {
        "id": "Yp9jkvIQFagm"
      },
      "source": [
        "| Operation                   | Lists    | Tuples   | Dictionaries |\n",
        "|-----------------------------|----------|----------|--------------|\n",
        "| **Access (by index/key)**    | O(1)     | O(1)     | O(1)         |\n",
        "| **Insert**                   | O(n)     | Not allowed | O(1)         |\n",
        "| **Membership Test (`in`)**   | O(n)     | O(n)     | O(1)         |\n",
        "\n",
        "\n"
      ]
    },
    {
      "cell_type": "markdown",
      "metadata": {
        "id": "7GAaY5fd6XMI"
      },
      "source": [
        "# Loops and controls"
      ]
    },
    {
      "cell_type": "markdown",
      "metadata": {
        "id": "BrVr27SDd4-b"
      },
      "source": [
        "for loop: \"for something in some_iterable:\" and then you indent whatever goes into the loop."
      ]
    },
    {
      "cell_type": "code",
      "execution_count": 60,
      "metadata": {
        "colab": {
          "base_uri": "https://localhost:8080/"
        },
        "id": "4SYCGUO9d653",
        "outputId": "79faa5c4-9eaf-4984-afe2-1d3caa5b2889"
      },
      "outputs": [
        {
          "name": "stdout",
          "output_type": "stream",
          "text": [
            "38.3\n",
            "27\n",
            "43.99\n",
            "3\n",
            "9\n",
            "82\n",
            "10\n",
            "Done!\n"
          ]
        }
      ],
      "source": [
        "my_list = [38.3, 27, 43.99, 3, 9, 82, 10]\n",
        "\n",
        "for i in my_list:\n",
        "    print(i)\n",
        "\n",
        "# Note the indentation\n",
        "print('Done!')"
      ]
    },
    {
      "cell_type": "markdown",
      "metadata": {
        "id": "GpsSlBJaeVRX"
      },
      "source": [
        "lists are iterable. But there are also built in iterable objects. Most notably, range() and enumerate()"
      ]
    },
    {
      "cell_type": "code",
      "execution_count": 61,
      "metadata": {
        "colab": {
          "base_uri": "https://localhost:8080/"
        },
        "id": "JHF-4jLZegz5",
        "outputId": "ad529d81-92f5-464c-a30d-267873549912"
      },
      "outputs": [
        {
          "name": "stdout",
          "output_type": "stream",
          "text": [
            "0\n",
            "1\n",
            "4\n",
            "9\n",
            "16\n",
            "25\n",
            "36\n",
            "49\n",
            "64\n",
            "81\n"
          ]
        }
      ],
      "source": [
        "my_list = [38.3, 27, 43.99, 3, 9, 82, 10]\n",
        "for i in range(10):\n",
        "    print(i ** 2 )"
      ]
    },
    {
      "cell_type": "code",
      "execution_count": 62,
      "metadata": {
        "colab": {
          "base_uri": "https://localhost:8080/"
        },
        "id": "twVMKym-fJjP",
        "outputId": "8cf1012f-5e12-47d2-88ec-fc86f9b5ccde"
      },
      "outputs": [
        {
          "name": "stdout",
          "output_type": "stream",
          "text": [
            "The element at index 0 is 38.3.\n",
            "The element at index 1 is 27.\n",
            "The element at index 2 is 43.99.\n",
            "The element at index 3 is 3.\n",
            "The element at index 4 is 9.\n",
            "The element at index 5 is 82.\n",
            "The element at index 6 is 10.\n"
          ]
        }
      ],
      "source": [
        "my_list = [38.3, 27, 43.99, 3, 9, 82, 10]\n",
        "for index, element in enumerate(my_list):\n",
        "    print(f\"The element at index {index} is {element}.\")"
      ]
    },
    {
      "cell_type": "markdown",
      "metadata": {
        "id": "Wci2uUTj83RC"
      },
      "source": [
        "Find the maximum of a list"
      ]
    },
    {
      "cell_type": "markdown",
      "metadata": {
        "id": "ghoJjvWMfZp7"
      },
      "source": [
        "if statement: \"if boolean_variable:\" and then you indent the code which should be run if boolean_variable == True. You can also add what happens if boolean_variable == True with \"else:\" and then you indent."
      ]
    },
    {
      "cell_type": "code",
      "execution_count": 63,
      "metadata": {
        "colab": {
          "base_uri": "https://localhost:8080/"
        },
        "id": "oA4_C4Cp776Y",
        "outputId": "53c08330-6cc2-4fd7-e16c-7accdb2bf85a"
      },
      "outputs": [
        {
          "name": "stdout",
          "output_type": "stream",
          "text": [
            "27  is smaller than the current max 38.3\n",
            "3  is smaller than the current max 43.99\n",
            "9  is smaller than the current max 43.99\n",
            "10  is smaller than the current max 82\n",
            "Max: 82\n"
          ]
        }
      ],
      "source": [
        "my_list = [38.3, 27, 43.99, 3, 9, 82, 10]\n",
        "\n",
        "max_value = -float('inf')\n",
        "\n",
        "for element in my_list:\n",
        "    if element > max_value:\n",
        "        max_value = element\n",
        "    else:\n",
        "        print(element, ' is smaller than the current max',max_value)\n",
        "\n",
        "print('Max:', max_value)"
      ]
    },
    {
      "cell_type": "markdown",
      "metadata": {
        "id": "dCLVD1DDEdVH"
      },
      "source": [
        "Sorting a list"
      ]
    },
    {
      "cell_type": "markdown",
      "metadata": {
        "id": "Cmk-C3GwgLq4"
      },
      "source": [
        "We sort a list by starting from the left and compare each element $i$ with those on its right $\\{i+1,\\dots,n\\}$, when we find $x_j$ with $x_j > x_i$ we swap positions $i$ and $j.$ It is easy to check that this requires $\\mathcal{O}(n^2)$ comparisons."
      ]
    },
    {
      "cell_type": "code",
      "execution_count": 64,
      "metadata": {
        "colab": {
          "base_uri": "https://localhost:8080/"
        },
        "id": "p90d08aGEfPV",
        "outputId": "5d16d2f9-689a-4961-f0a9-1b4325734d38"
      },
      "outputs": [
        {
          "name": "stdout",
          "output_type": "stream",
          "text": [
            "[8, 6, 5, 3, 2]\n"
          ]
        }
      ],
      "source": [
        "my_list = [5, 3, 8, 6, 2]\n",
        "\n",
        "for i in range(len(my_list)):\n",
        "    for j in range(i + 1, len(my_list)):\n",
        "        if my_list[i] < my_list[j]:\n",
        "            my_list[i], my_list[j] = my_list[j], my_list[i]\n",
        "\n",
        "print(my_list)"
      ]
    },
    {
      "cell_type": "markdown",
      "metadata": {
        "id": "_wIl041pkAra"
      },
      "source": [
        "while statement is \"while boolean_variable:\" and you indent."
      ]
    },
    {
      "cell_type": "code",
      "execution_count": 65,
      "metadata": {
        "colab": {
          "base_uri": "https://localhost:8080/"
        },
        "id": "l2Pr01bvIoup",
        "outputId": "06c471a8-1fe0-4c56-c0be-141c7025dcd7"
      },
      "outputs": [
        {
          "name": "stdout",
          "output_type": "stream",
          "text": [
            "The factorial is: 2432902008176640000\n"
          ]
        }
      ],
      "source": [
        "n = 20\n",
        "\n",
        "factorial = 1\n",
        "\n",
        "while n > 1:\n",
        "    factorial *= n\n",
        "    n -= 1\n",
        "\n",
        "print(f\"The factorial is: {factorial}\")"
      ]
    },
    {
      "cell_type": "markdown",
      "metadata": {
        "id": "Mc35hhZ0Dq9G"
      },
      "source": [
        "# List comprehension"
      ]
    },
    {
      "cell_type": "code",
      "execution_count": 66,
      "metadata": {
        "colab": {
          "base_uri": "https://localhost:8080/"
        },
        "id": "kfkrPlnTGepJ",
        "outputId": "3e22bee9-bce7-42ae-91ad-e846d07a3525"
      },
      "outputs": [
        {
          "name": "stdout",
          "output_type": "stream",
          "text": [
            "[0, 1, 2, 3, 4, 5, 6, 7, 8, 9]\n"
          ]
        }
      ],
      "source": [
        "my_range = [number for number in range(10)]\n",
        "print(my_range)"
      ]
    },
    {
      "cell_type": "markdown",
      "metadata": {
        "id": "iYV3xUvrDxE3"
      },
      "source": [
        "generate a random list"
      ]
    },
    {
      "cell_type": "code",
      "execution_count": 67,
      "metadata": {
        "colab": {
          "base_uri": "https://localhost:8080/"
        },
        "id": "e3ukP7aXG8Zb",
        "outputId": "e95114ed-5a8b-46a5-fb5b-84e56a772464"
      },
      "outputs": [
        {
          "name": "stdout",
          "output_type": "stream",
          "text": [
            "[30, 65, 78, 4, 72, 26, 92, 84, 90, 70]\n"
          ]
        }
      ],
      "source": [
        "import random\n",
        "random_list = [random.randint(1, 100) for _ in range(10)]\n",
        "print(random_list)"
      ]
    },
    {
      "cell_type": "markdown",
      "metadata": {
        "id": "KYY_B6SyEY9n"
      },
      "source": [
        "# Functions"
      ]
    },
    {
      "cell_type": "code",
      "execution_count": 68,
      "metadata": {
        "id": "CQSVGq9_nSEH"
      },
      "outputs": [],
      "source": [
        "# generate random numbers between 0 and 1\n",
        "def generate_random_list(length):\n",
        "    random_list = [random.random() for _ in range(length)]\n",
        "    return random_list\n"
      ]
    },
    {
      "cell_type": "code",
      "execution_count": 69,
      "metadata": {
        "colab": {
          "base_uri": "https://localhost:8080/"
        },
        "id": "uCgCTRVKHRSc",
        "outputId": "f5be4069-c032-4a98-fe87-e011b987b610"
      },
      "outputs": [
        {
          "name": "stdout",
          "output_type": "stream",
          "text": [
            "[0.869300320792934, 0.7588073671297673, 0.4492090462838536, 0.41951982096165874, 0.2781907082306627]\n"
          ]
        }
      ],
      "source": [
        "def my_sort(my_list):\n",
        "    for i in range(len(my_list)):\n",
        "      for j in range(i + 1, len(my_list)):\n",
        "          if my_list[i] < my_list[j]:\n",
        "              # Swap the values at my_list[i] and my_list[j]\n",
        "              my_list[i], my_list[j] = my_list[j], my_list[i]\n",
        "\n",
        "    return my_list\n",
        "\n",
        "\n",
        "print(my_sort(generate_random_list(5)))"
      ]
    },
    {
      "cell_type": "markdown",
      "metadata": {
        "id": "yf4_eIqLt9Xh"
      },
      "source": [
        "Functions can self-reference (recursion)"
      ]
    },
    {
      "cell_type": "code",
      "execution_count": 70,
      "metadata": {
        "colab": {
          "base_uri": "https://localhost:8080/"
        },
        "id": "2IpzdTyvuC25",
        "outputId": "408427e1-1cb8-4d5e-a022-872f1e269d78"
      },
      "outputs": [
        {
          "data": {
            "text/plain": [
              "30414093201713378043612608166064768844377641568960512000000000000"
            ]
          },
          "execution_count": 70,
          "metadata": {},
          "output_type": "execute_result"
        }
      ],
      "source": [
        "def factorial(n):\n",
        "    if n == 0:\n",
        "        return 1\n",
        "    else:\n",
        "        return n * factorial(n-1)\n",
        "\n",
        "\n",
        "factorial(50)"
      ]
    },
    {
      "cell_type": "markdown",
      "metadata": {
        "id": "yJVjDalc9TuX"
      },
      "source": [
        "# Sorting a list: merge sort by function recursion"
      ]
    },
    {
      "cell_type": "markdown",
      "metadata": {
        "id": "jvcJkyJZoEBN"
      },
      "source": [
        "We try to improve on our previous sorting algorithm. The strategy is divide and conquer. Assume the lenght of the list is a power of 2, i.e. $n = 2^k.$ Then, starting from the $2^k$ (sorted) singletons, we can *merge* them into $2^{k-1}$ sorted couples, which we can merge in $2^{k-2}$ sorted quadruples... and so on. In $k$ steps we get our sorted list and step $\\ell = 0,\\dots,k-1$ has the cost of merging $2^{k-\\ell}$ lists of lenght $2^\\ell.$\n",
        "\n",
        "\n",
        "Merging two sorted lists of lengths $m_1,m_2$ can be done in $\\mathcal{O}(m_1m_2)$ comparisons, so the complexity is\n",
        "$\\sum_{\\ell = 0}^{k-1} 2^{k-\\ell}\\mathcal{O}(2^{\\ell+1}) = \\mathcal{O}(k 2^{k}) = \\mathcal{O}(n \\log n).$\n",
        "\n",
        "\n",
        "\n",
        "First we define a function which merges two sorted lists (of possibly different lenght):"
      ]
    },
    {
      "cell_type": "code",
      "execution_count": 71,
      "metadata": {
        "id": "xqgRnrTxMqNN"
      },
      "outputs": [],
      "source": [
        "def merge(left, right):\n",
        "    i = 0\n",
        "    j = 0\n",
        "    sorted_list = []\n",
        "\n",
        "    while i < len(left) and j < len(right):\n",
        "        if left[i] > right[j]:\n",
        "            sorted_list.append(left[i])\n",
        "            i += 1\n",
        "        else:\n",
        "            sorted_list.append(right[j])\n",
        "            j += 1\n",
        "\n",
        "    sorted_list += left[i:]\n",
        "    sorted_list += right[j:]\n",
        "\n",
        "    return sorted_list"
      ]
    },
    {
      "cell_type": "markdown",
      "metadata": {
        "id": "WDHdpee2ssiT"
      },
      "source": [
        "To handle the general case (the lenght is not a power of 2) we build the recursion by self-referencing the function merge."
      ]
    },
    {
      "cell_type": "code",
      "execution_count": 72,
      "metadata": {
        "id": "JbI9Z2UvssDv"
      },
      "outputs": [],
      "source": [
        "def merge_sort(my_list):\n",
        "\n",
        "    if len(my_list) <= 1:\n",
        "      return my_list\n",
        "\n",
        "    mid = len(my_list) // 2\n",
        "\n",
        "    left = my_list[: mid]\n",
        "    right = my_list[mid:]\n",
        "\n",
        "    left = merge_sort(left)\n",
        "    right = merge_sort(right)\n",
        "\n",
        "    return merge(left, right)"
      ]
    },
    {
      "cell_type": "markdown",
      "metadata": {
        "id": "bPZXkffgzSh6"
      },
      "source": [
        "Let's compare the times"
      ]
    },
    {
      "cell_type": "code",
      "execution_count": 73,
      "metadata": {
        "colab": {
          "base_uri": "https://localhost:8080/"
        },
        "id": "OQ6RGKpDO7SF",
        "outputId": "19f5cbc9-efbb-4fd9-942f-7db681cf35de"
      },
      "outputs": [
        {
          "name": "stdout",
          "output_type": "stream",
          "text": [
            "Merge Sort:  0.04005002975463867\n",
            "My Sort:  0.7783863544464111\n"
          ]
        }
      ],
      "source": [
        "import time\n",
        "\n",
        "start_time = time.time()\n",
        "merge_sort(generate_random_list(5000))\n",
        "end_time = time.time()\n",
        "print('Merge Sort: ', end_time - start_time)\n",
        "\n",
        "\n",
        "start_time = time.time()\n",
        "my_sort(generate_random_list(5000))\n",
        "end_time = time.time()\n",
        "print('My Sort: ',end_time - start_time)"
      ]
    },
    {
      "cell_type": "markdown",
      "metadata": {
        "id": "FbiGuZ0buLxj"
      },
      "source": [
        "# Knapsack problem"
      ]
    },
    {
      "cell_type": "markdown",
      "metadata": {
        "id": "dPqW0p78uSRZ"
      },
      "source": [
        "We want to solve the knapsack problem that is\n",
        "\n",
        "$$\\max_{x \\in \\{0,1\\}^n} \\sum_{j \\in [n]}x_j v_j$$ \n",
        "subject to \n",
        "$$\\sum_{j \\in [n]} x_j w_j \\leq W,$$\n",
        "where $v_j$ is the value of object $j$, $w_j$ is the integer weight of object $j$ and $W$ is the maximum weight we can carry. The problem is NP-hard but it can be solved with dynamic programming in pseudo-poly time."
      ]
    },
    {
      "cell_type": "code",
      "execution_count": 74,
      "metadata": {
        "colab": {
          "base_uri": "https://localhost:8080/"
        },
        "id": "6vJCZJpTuO5j",
        "outputId": "b97e1cec-de29-43e0-a3ae-f2e44cc11e8d"
      },
      "outputs": [
        {
          "name": "stdout",
          "output_type": "stream",
          "text": [
            "weights: [40, 7, 1, 47, 17, 15, 14, 8, 47, 6]\n",
            "profits: [86, 94, 69, 11, 75, 54, 4, 3, 11, 27]\n",
            "capacity: 120\n"
          ]
        }
      ],
      "source": [
        "import random\n",
        "random.seed(42)\n",
        "\n",
        "num_items = 10\n",
        "\n",
        "# Generate random weights, values and capacity\n",
        "weight_j = [random.randint(0,50) for _ in range(num_items)]\n",
        "profit_j = [random.randint(0,100) for _ in range(num_items)]\n",
        "capacity = 120\n",
        "\n",
        "print('weights:', weight_j)\n",
        "print('profits:', profit_j)\n",
        "print('capacity:', capacity)"
      ]
    },
    {
      "cell_type": "markdown",
      "metadata": {
        "id": "FQvD639DuYYn"
      },
      "source": [
        "For $j \\in [[1,n]]$ and $w \\in [[0,W]]$ let $V_{j,w}$ be the value of the knapsack problem with maximum weight $w$ and objects $[j].$ The recursion is\n",
        "$$V_{j,w} = \\max \\{ V_{k-1,w-w_j} + v_j,V_{j-1,w}\\} \\text{  if  } w_j \\leq w, \\text{  else  }V_{j,w} = V_{j-1,w}$$\n",
        "with boundary conditions $V_{j,0} = 0.$"
      ]
    },
    {
      "cell_type": "code",
      "execution_count": 75,
      "metadata": {
        "colab": {
          "base_uri": "https://localhost:8080/"
        },
        "id": "DpX7GiIgy0Zk",
        "outputId": "4c71c9c1-1555-4a67-ff53-fd268221fbd2"
      },
      "outputs": [
        {
          "name": "stdout",
          "output_type": "stream",
          "text": [
            "Maximum Value: 412\n"
          ]
        }
      ],
      "source": [
        "V_j_w = [[0] * (capacity + 1) for _ in range(num_items + 1)]\n",
        "\n",
        "for i in range(1, num_items + 1):  # Iterate over items\n",
        "    for w in range(capacity + 1):  # Iterate over capacities\n",
        "        if weight_j[i - 1] > w:\n",
        "            V_j_w[i][w] = V_j_w[i - 1][w]  # Exclude item\n",
        "        else:\n",
        "            V_j_w[i][w] = max(V_j_w[i - 1][w], profit_j[i - 1] + V_j_w[i - 1][w - weight_j[i - 1]])  # Include item\n",
        "\n",
        "# The final result: max value for given capacity\n",
        "print(\"Maximum Value:\" , V_j_w[num_items][capacity])"
      ]
    },
    {
      "cell_type": "markdown",
      "metadata": {
        "id": "ERBT51MlzFk7"
      },
      "source": [
        "We now use function recursion to solve the problem. @lru_cache(None) stores (caches) function results, so if the function is called again with the same inputs, it returns the stored result instantly instead of recomputing."
      ]
    },
    {
      "cell_type": "code",
      "execution_count": 76,
      "metadata": {
        "colab": {
          "base_uri": "https://localhost:8080/"
        },
        "id": "ULo336sauYpA",
        "outputId": "12e8d7b5-6a24-4a03-c0b0-6a7a82522dad"
      },
      "outputs": [
        {
          "name": "stdout",
          "output_type": "stream",
          "text": [
            "Value: 412\n"
          ]
        }
      ],
      "source": [
        "from functools import lru_cache\n",
        "\n",
        "@lru_cache(None)\n",
        "\n",
        "def solve(j, w):\n",
        "    if w == 0 or j == -1:\n",
        "        return 0\n",
        "    if weight_j[j] > w:\n",
        "        return solve(j-1, w)\n",
        "    else:\n",
        "        return max(solve(j-1, w - weight_j[j]) + profit_j[j], solve(j-1, w))\n",
        "\n",
        "# Solve and print the result\n",
        "print(\"Value:\", solve(num_items - 1, capacity))"
      ]
    },
    {
      "cell_type": "markdown",
      "metadata": {
        "id": "7IUxJI1Subho"
      },
      "source": [
        "Solving the problem takes $\\mathcal{O}(nW)$ time. The encoding lenght of the problem includes the number of bits to encode $W,$ which grows like $b = \\log_2 W,$ so you see that the complexity is  $\\mathcal{O}(n2^b),$ exponential in the number of bits used to encode $W.$"
      ]
    }
  ],
  "metadata": {
    "colab": {
      "provenance": []
    },
    "kernelspec": {
      "display_name": "myenv",
      "language": "python",
      "name": "python3"
    },
    "language_info": {
      "codemirror_mode": {
        "name": "ipython",
        "version": 3
      },
      "file_extension": ".py",
      "mimetype": "text/x-python",
      "name": "python",
      "nbconvert_exporter": "python",
      "pygments_lexer": "ipython3",
      "version": "3.10.10"
    }
  },
  "nbformat": 4,
  "nbformat_minor": 0
}
